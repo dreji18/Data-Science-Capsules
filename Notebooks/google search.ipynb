{
 "cells": [
  {
   "cell_type": "markdown",
   "id": "1b72dbd8",
   "metadata": {},
   "source": [
    "### Google search using Python"
   ]
  },
  {
   "cell_type": "markdown",
   "id": "b0ffe525",
   "metadata": {},
   "source": [
    "Author: Deepak John Reji (https://www.linkedin.com/in/deepak-john-reji/)\n",
    "\n",
    "Explanation: "
   ]
  },
  {
   "cell_type": "markdown",
   "id": "07ddfde1",
   "metadata": {},
   "source": [
    "#### Installation\n",
    "!pip install google"
   ]
  },
  {
   "cell_type": "code",
   "execution_count": 1,
   "id": "7cd4204a",
   "metadata": {},
   "outputs": [],
   "source": [
    "try:\n",
    "    from googlesearch import search\n",
    "except ImportError: \n",
    "    print(\"No module named 'google' found\")"
   ]
  },
  {
   "cell_type": "code",
   "execution_count": 3,
   "id": "fdc04526",
   "metadata": {},
   "outputs": [
    {
     "name": "stdout",
     "output_type": "stream",
     "text": [
      "https://en.wikipedia.org/wiki/Criticism_of_Tesla,_Inc.\n",
      "https://en.wikipedia.org/wiki/Criticism_of_Tesla,_Inc.#Fraud_allegations\n",
      "https://en.wikipedia.org/wiki/Criticism_of_Tesla,_Inc.#Safety_issues\n",
      "https://en.wikipedia.org/wiki/Criticism_of_Tesla,_Inc.#Working_conditions\n",
      "https://en.wikipedia.org/wiki/Criticism_of_Tesla,_Inc.#Workplace_culture_issues\n",
      "https://www.marca.com/en/lifestyle/us-news/2022/06/17/62acbc35268e3e0d558b4569.html\n",
      "https://time.com/6148510/tesla-lawsuits-recalls/\n",
      "https://www.businessinsider.com/tesla-problems-2019-autopilot-elon-musk-tweets-2019-6\n",
      "https://slate.com/technology/2022/02/elon-musk-scandals-fremont-neuralink-tesla-recall.html\n",
      "https://electrek.co/2022/05/20/elongate-scandal-tesla-tsla-falls-musk-denies-challenges-alleged-victims/\n"
     ]
    }
   ],
   "source": [
    "# to get the urls\n",
    "query = \"Tesla scandal\"\n",
    "  \n",
    "for j in search(query, tld=\"co.in\", num=10, stop=10, pause=2):\n",
    "    print(j)"
   ]
  },
  {
   "cell_type": "code",
   "execution_count": 4,
   "id": "d962ef8b",
   "metadata": {},
   "outputs": [
    {
     "name": "stderr",
     "output_type": "stream",
     "text": [
      "C:\\Users\\deepa\\anaconda3\\lib\\site-packages\\urllib3\\connectionpool.py:1045: InsecureRequestWarning: Unverified HTTPS request is being made to host 'time.com'. Adding certificate verification is strongly advised. See: https://urllib3.readthedocs.io/en/1.26.x/advanced-usage.html#ssl-warnings\n",
      "  warnings.warn(\n"
     ]
    }
   ],
   "source": [
    "# to parse the contents\n",
    "import requests\n",
    "from bs4 import BeautifulSoup\n",
    "page = requests.get(\"https://time.com/6148510/tesla-lawsuits-recalls/\", verify=False)\n",
    "soup = BeautifulSoup(page.content, 'html.parser')"
   ]
  },
  {
   "cell_type": "code",
   "execution_count": 7,
   "id": "28941ff2",
   "metadata": {},
   "outputs": [
    {
     "data": {
      "text/plain": [
       "['Tesla’s troubles just keep piling up. Late last week, California’s Department of Fair Employment and Housing (DFEH) sued the automaker, alleging that Tesla had discriminated against Black workers at the company and ignored years of complaints from Black workers who said that they were almost continuously subjected to racist slurs in the workplace. Kevin Kish, DFEH director, said the department had evidence that Tesla was in effect running a racially segregated workplace. “The facts of this case speak for themselves,” he said.',\n",
       " 'Tesla defended itself against the allegations in a Feb. 9 blog post, saying that the DFEH lawsuit “strains credulity,” though it’s not the first racial controversy the company has endured in recent months: last fall a court ordered the company to pay $137 million to a Black contract worker over turning a blind eye to a racially hostile work environment. It paid out more than $1 million in a similar case earlier last year. ',\n",
       " 'That most recent racial reckoning has been just one aspect of the deepening mire of controversy in which Tesla has found itself in recent months. Since November, seven women have sued the company over alleged workplace sexual harassment. One of the women, Jessica Brooks, said she had to stack boxes around her desk in order to create a physical barrier that would stop her co-workers from whistling at her. ',\n",
       " 'And then there’s the cars themselves. Over a span of two weeks earlier this month, Tesla issued four recalls, including one for its vehicles’ “boombox” feature, which could interfere with pedestrians’ ability to hear warning sounds signaling that a car was approaching, and another over a feature of the company’s “full self-driving” software that caused the cars to roll through stop sign intersections. ',\n",
       " 'It’s not as if Tesla hasn’t run into controversy before—for Musk, running afoul of regulators, business partners, investors and employees has to a certain extent been the price of doing business over the years. There was the big lawsuit that started it all way back in 2009, when Musk and Tesla co-founder Martin Eberhard duked it out over the latter’s termination as CEO. There was the more recent U.S. Securities and Exchange Commission suit over Musk’s infamous “funding secured” tweet (Musk had signaled he was taking the company private, apparently as a joke). Just last summer, Musk was on the witness stand in a Delaware courtroom fighting investors over Tesla’s controversial 2016 decision to buy SolarCity, a troubled company for which Musk served as board chairman.',\n",
       " 'Some of those older controversies aren’t quite buried. A decision on the SolarCity case, which could leave Musk out $13 billion, is coming this spring. And earlier this month, Tesla revealed that the S.E.C. had subpoenaed the carmaker late last year asking for specifics on how Tesla was complying with the settlement over the “funding secured” matter, which required lawyers to vet Musk tweets that might affect his company’s stock price. Just before the subpoena, Musk had polled his Twitter followers on whether he should sell 10% of his stake in the company.',\n",
       " 'There’s not much reason to think Tesla won’t sail through these most recent storms like it has all the others before. But there’s one major difference between the situation that the hotshot carmaker faces now, versus where it stood in the past. For years, Tesla was really the only game in town if you wanted a long-range, full size electric vehicle—and as it turned out, a lot of people did. But at this point, belated EV programs by other carmakers like Ford and Volkswagen are finally coming to fruition, giving the untouchable Tesla its first serious run for its money. Tesla has always acted as an exception to every rule—in carmaking, in leadership and in its approach to controversy. But if Musk’s singular company stops being so special, if customers can just as easily get an EV from Kia or Nissan, there’s no guarantee that the company’s cycle of scandals won’t start hitting them where it hurts: the bottom line. ',\n",
       " 'Write to Alejandro de la Garza at alejandro.delagarza@time.com.']"
      ]
     },
     "execution_count": 7,
     "metadata": {},
     "output_type": "execute_result"
    }
   ],
   "source": [
    "contents = []\n",
    "for i in soup.find_all('p'):\n",
    "    #print(i)\n",
    "    contents.append(i.get_text())\n",
    "\n",
    "contents"
   ]
  },
  {
   "cell_type": "code",
   "execution_count": null,
   "id": "a4884a87",
   "metadata": {},
   "outputs": [],
   "source": []
  }
 ],
 "metadata": {
  "kernelspec": {
   "display_name": "Python 3",
   "language": "python",
   "name": "python3"
  },
  "language_info": {
   "codemirror_mode": {
    "name": "ipython",
    "version": 3
   },
   "file_extension": ".py",
   "mimetype": "text/x-python",
   "name": "python",
   "nbconvert_exporter": "python",
   "pygments_lexer": "ipython3",
   "version": "3.8.13"
  }
 },
 "nbformat": 4,
 "nbformat_minor": 5
}
