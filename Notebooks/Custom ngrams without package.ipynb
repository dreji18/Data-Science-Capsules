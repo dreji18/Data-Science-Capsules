{
 "cells": [
  {
   "cell_type": "markdown",
   "id": "309d620a",
   "metadata": {},
   "source": [
    "### Custom Ngram function"
   ]
  },
  {
   "cell_type": "markdown",
   "id": "4d2928c0",
   "metadata": {},
   "source": [
    "Author: Deepak John Reji (https://www.linkedin.com/in/deepak-john-reji/)\n",
    "\n",
    "Explanation: https://youtu.be/wXTNDTf04yg"
   ]
  },
  {
   "cell_type": "code",
   "execution_count": 2,
   "id": "27668108",
   "metadata": {},
   "outputs": [],
   "source": [
    "text = \"Thor and loki are brothers for life\""
   ]
  },
  {
   "cell_type": "code",
   "execution_count": 8,
   "id": "2f4fabb0",
   "metadata": {},
   "outputs": [
    {
     "data": {
      "text/plain": [
       "7"
      ]
     },
     "execution_count": 8,
     "metadata": {},
     "output_type": "execute_result"
    }
   ],
   "source": [
    "len(text.split())"
   ]
  },
  {
   "cell_type": "code",
   "execution_count": 4,
   "id": "0c60ab06",
   "metadata": {},
   "outputs": [
    {
     "data": {
      "text/plain": [
       "['Thor', 'and']"
      ]
     },
     "execution_count": 4,
     "metadata": {},
     "output_type": "execute_result"
    }
   ],
   "source": [
    "text.split()[0:2]"
   ]
  },
  {
   "cell_type": "code",
   "execution_count": 5,
   "id": "776e2001",
   "metadata": {},
   "outputs": [
    {
     "data": {
      "text/plain": [
       "['and', 'loki']"
      ]
     },
     "execution_count": 5,
     "metadata": {},
     "output_type": "execute_result"
    }
   ],
   "source": [
    "text.split()[1:3]"
   ]
  },
  {
   "cell_type": "code",
   "execution_count": 6,
   "id": "feb40fb0",
   "metadata": {},
   "outputs": [
    {
     "data": {
      "text/plain": [
       "['loki', 'are']"
      ]
     },
     "execution_count": 6,
     "metadata": {},
     "output_type": "execute_result"
    }
   ],
   "source": [
    "text.split()[2:4]"
   ]
  },
  {
   "cell_type": "code",
   "execution_count": 7,
   "id": "9a26a0c5",
   "metadata": {},
   "outputs": [
    {
     "data": {
      "text/plain": [
       "['for', 'life']"
      ]
     },
     "execution_count": 7,
     "metadata": {},
     "output_type": "execute_result"
    }
   ],
   "source": [
    "text.split()[5:7]"
   ]
  },
  {
   "cell_type": "markdown",
   "id": "5b704fde",
   "metadata": {},
   "source": [
    "#### with package"
   ]
  },
  {
   "cell_type": "code",
   "execution_count": 9,
   "id": "10de1c80",
   "metadata": {},
   "outputs": [],
   "source": [
    "from nltk import ngrams"
   ]
  },
  {
   "cell_type": "code",
   "execution_count": 18,
   "id": "d9726a6f",
   "metadata": {},
   "outputs": [
    {
     "name": "stdout",
     "output_type": "stream",
     "text": [
      "('Thor', 'and', 'loki', 'are', 'brothers')\n",
      "('and', 'loki', 'are', 'brothers', 'for')\n",
      "('loki', 'are', 'brothers', 'for', 'life')\n"
     ]
    }
   ],
   "source": [
    "n = 5\n",
    "anygrams = ngrams(text.split(), n)\n",
    "\n",
    "for grams in anygrams:\n",
    "  print(grams)"
   ]
  },
  {
   "cell_type": "markdown",
   "id": "c76b20bc",
   "metadata": {},
   "source": [
    "#### without package"
   ]
  },
  {
   "cell_type": "code",
   "execution_count": 17,
   "id": "8a10945a",
   "metadata": {},
   "outputs": [
    {
     "data": {
      "text/plain": [
       "[['Thor', 'and', 'loki', 'are', 'brothers'],\n",
       " ['and', 'loki', 'are', 'brothers', 'for'],\n",
       " ['loki', 'are', 'brothers', 'for', 'life']]"
      ]
     },
     "execution_count": 17,
     "metadata": {},
     "output_type": "execute_result"
    }
   ],
   "source": [
    "n_gram_list = []\n",
    "n = 5\n",
    "\n",
    "for i in range(0, len(text.split())-(n-1)):\n",
    "    n_gram_list.append(text.split()[i:i+n])\n",
    "\n",
    "n_gram_list  "
   ]
  },
  {
   "cell_type": "code",
   "execution_count": 13,
   "id": "736ef525",
   "metadata": {},
   "outputs": [
    {
     "data": {
      "text/plain": [
       "5"
      ]
     },
     "execution_count": 13,
     "metadata": {},
     "output_type": "execute_result"
    }
   ],
   "source": [
    "len(text.split())-n"
   ]
  },
  {
   "cell_type": "code",
   "execution_count": null,
   "id": "47ccc20b",
   "metadata": {},
   "outputs": [],
   "source": []
  }
 ],
 "metadata": {
  "kernelspec": {
   "display_name": "Python 3",
   "language": "python",
   "name": "python3"
  },
  "language_info": {
   "codemirror_mode": {
    "name": "ipython",
    "version": 3
   },
   "file_extension": ".py",
   "mimetype": "text/x-python",
   "name": "python",
   "nbconvert_exporter": "python",
   "pygments_lexer": "ipython3",
   "version": "3.8.13"
  }
 },
 "nbformat": 4,
 "nbformat_minor": 5
}
